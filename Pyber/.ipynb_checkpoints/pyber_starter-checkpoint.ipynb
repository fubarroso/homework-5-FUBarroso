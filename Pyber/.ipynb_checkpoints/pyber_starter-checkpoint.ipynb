{
 "cells": [
  {
   "cell_type": "code",
   "execution_count": 1,
   "metadata": {},
   "outputs": [
    {
     "data": {
      "text/html": [
       "<div>\n",
       "<style scoped>\n",
       "    .dataframe tbody tr th:only-of-type {\n",
       "        vertical-align: middle;\n",
       "    }\n",
       "\n",
       "    .dataframe tbody tr th {\n",
       "        vertical-align: top;\n",
       "    }\n",
       "\n",
       "    .dataframe thead th {\n",
       "        text-align: right;\n",
       "    }\n",
       "</style>\n",
       "<table border=\"1\" class=\"dataframe\">\n",
       "  <thead>\n",
       "    <tr style=\"text-align: right;\">\n",
       "      <th></th>\n",
       "      <th>city</th>\n",
       "      <th>date</th>\n",
       "      <th>fare</th>\n",
       "      <th>ride_id</th>\n",
       "      <th>driver_count</th>\n",
       "      <th>type</th>\n",
       "    </tr>\n",
       "  </thead>\n",
       "  <tbody>\n",
       "    <tr>\n",
       "      <th>0</th>\n",
       "      <td>Lake Jonathanshire</td>\n",
       "      <td>2018-01-14 10:14:22</td>\n",
       "      <td>13.83</td>\n",
       "      <td>5739410935873</td>\n",
       "      <td>5</td>\n",
       "      <td>Urban</td>\n",
       "    </tr>\n",
       "    <tr>\n",
       "      <th>1</th>\n",
       "      <td>South Michelleport</td>\n",
       "      <td>2018-03-04 18:24:09</td>\n",
       "      <td>30.24</td>\n",
       "      <td>2343912425577</td>\n",
       "      <td>72</td>\n",
       "      <td>Urban</td>\n",
       "    </tr>\n",
       "    <tr>\n",
       "      <th>2</th>\n",
       "      <td>Port Samanthamouth</td>\n",
       "      <td>2018-02-24 04:29:00</td>\n",
       "      <td>33.44</td>\n",
       "      <td>2005065760003</td>\n",
       "      <td>57</td>\n",
       "      <td>Urban</td>\n",
       "    </tr>\n",
       "    <tr>\n",
       "      <th>3</th>\n",
       "      <td>Rodneyfort</td>\n",
       "      <td>2018-02-10 23:22:03</td>\n",
       "      <td>23.44</td>\n",
       "      <td>5149245426178</td>\n",
       "      <td>34</td>\n",
       "      <td>Urban</td>\n",
       "    </tr>\n",
       "    <tr>\n",
       "      <th>4</th>\n",
       "      <td>South Jack</td>\n",
       "      <td>2018-03-06 04:28:35</td>\n",
       "      <td>34.58</td>\n",
       "      <td>3908451377344</td>\n",
       "      <td>46</td>\n",
       "      <td>Urban</td>\n",
       "    </tr>\n",
       "  </tbody>\n",
       "</table>\n",
       "</div>"
      ],
      "text/plain": [
       "                 city                 date   fare        ride_id  \\\n",
       "0  Lake Jonathanshire  2018-01-14 10:14:22  13.83  5739410935873   \n",
       "1  South Michelleport  2018-03-04 18:24:09  30.24  2343912425577   \n",
       "2  Port Samanthamouth  2018-02-24 04:29:00  33.44  2005065760003   \n",
       "3          Rodneyfort  2018-02-10 23:22:03  23.44  5149245426178   \n",
       "4          South Jack  2018-03-06 04:28:35  34.58  3908451377344   \n",
       "\n",
       "   driver_count   type  \n",
       "0             5  Urban  \n",
       "1            72  Urban  \n",
       "2            57  Urban  \n",
       "3            34  Urban  \n",
       "4            46  Urban  "
      ]
     },
     "execution_count": 1,
     "metadata": {},
     "output_type": "execute_result"
    }
   ],
   "source": [
    "%matplotlib inline\n",
    "# Dependencies and Setup\n",
    "import matplotlib.pyplot as plt\n",
    "import pandas as pd\n",
    "import numpy as np\n",
    "\n",
    "# File to Load (Remember to change these)\n",
    "city_data_to_load = \"data/city_data.csv\"\n",
    "ride_data_to_load = \"data/ride_data.csv\"\n",
    "\n",
    "# Read the City and Ride Data\n",
    "\n",
    "city_data = pd.read_csv(city_data_to_load)\n",
    "ride_data = pd.read_csv(ride_data_to_load)\n",
    "\n",
    "# Combine the data into a single dataset\n",
    "\n",
    "merged_table = pd.merge(ride_data , city_data , on = \"city\" , how = \"left\")\n",
    "\n",
    "# Display the data table for preview\n",
    "\n",
    "merged_table.head()"
   ]
  },
  {
   "cell_type": "code",
   "execution_count": 2,
   "metadata": {},
   "outputs": [
    {
     "data": {
      "text/html": [
       "<div>\n",
       "<style scoped>\n",
       "    .dataframe tbody tr th:only-of-type {\n",
       "        vertical-align: middle;\n",
       "    }\n",
       "\n",
       "    .dataframe tbody tr th {\n",
       "        vertical-align: top;\n",
       "    }\n",
       "\n",
       "    .dataframe thead th {\n",
       "        text-align: right;\n",
       "    }\n",
       "</style>\n",
       "<table border=\"1\" class=\"dataframe\">\n",
       "  <thead>\n",
       "    <tr style=\"text-align: right;\">\n",
       "      <th></th>\n",
       "      <th>city</th>\n",
       "      <th>date</th>\n",
       "      <th>fare</th>\n",
       "      <th>ride_id</th>\n",
       "      <th>driver_count</th>\n",
       "      <th>type</th>\n",
       "    </tr>\n",
       "  </thead>\n",
       "  <tbody>\n",
       "    <tr>\n",
       "      <th>164</th>\n",
       "      <td>Amandaburgh</td>\n",
       "      <td>2018-03-05 02:15:38</td>\n",
       "      <td>26.28</td>\n",
       "      <td>906850928986</td>\n",
       "      <td>12</td>\n",
       "      <td>Urban</td>\n",
       "    </tr>\n",
       "    <tr>\n",
       "      <th>68</th>\n",
       "      <td>Barajasview</td>\n",
       "      <td>2018-01-15 02:59:07</td>\n",
       "      <td>19.52</td>\n",
       "      <td>8268107272481</td>\n",
       "      <td>26</td>\n",
       "      <td>Urban</td>\n",
       "    </tr>\n",
       "    <tr>\n",
       "      <th>1625</th>\n",
       "      <td>Barronchester</td>\n",
       "      <td>2018-01-27 03:08:01</td>\n",
       "      <td>27.79</td>\n",
       "      <td>6653622887913</td>\n",
       "      <td>11</td>\n",
       "      <td>Suburban</td>\n",
       "    </tr>\n",
       "    <tr>\n",
       "      <th>1655</th>\n",
       "      <td>Bethanyland</td>\n",
       "      <td>2018-04-01 22:04:35</td>\n",
       "      <td>38.71</td>\n",
       "      <td>8221076873967</td>\n",
       "      <td>22</td>\n",
       "      <td>Suburban</td>\n",
       "    </tr>\n",
       "    <tr>\n",
       "      <th>2260</th>\n",
       "      <td>Bradshawfurt</td>\n",
       "      <td>2018-03-06 21:44:53</td>\n",
       "      <td>19.74</td>\n",
       "      <td>6080367372860</td>\n",
       "      <td>7</td>\n",
       "      <td>Rural</td>\n",
       "    </tr>\n",
       "  </tbody>\n",
       "</table>\n",
       "</div>"
      ],
      "text/plain": [
       "               city                 date   fare        ride_id  driver_count  \\\n",
       "164     Amandaburgh  2018-03-05 02:15:38  26.28   906850928986            12   \n",
       "68      Barajasview  2018-01-15 02:59:07  19.52  8268107272481            26   \n",
       "1625  Barronchester  2018-01-27 03:08:01  27.79  6653622887913            11   \n",
       "1655    Bethanyland  2018-04-01 22:04:35  38.71  8221076873967            22   \n",
       "2260   Bradshawfurt  2018-03-06 21:44:53  19.74  6080367372860             7   \n",
       "\n",
       "          type  \n",
       "164      Urban  \n",
       "68       Urban  \n",
       "1625  Suburban  \n",
       "1655  Suburban  \n",
       "2260     Rural  "
      ]
     },
     "execution_count": 2,
     "metadata": {},
     "output_type": "execute_result"
    }
   ],
   "source": [
    "#created a new data frame dropping rows  repeated city\n",
    "\n",
    "minus_duplicated_merged_table = merged_table.drop_duplicates(['city'])\n",
    "minus_duplicated_merged_table\n",
    "\n",
    "#new data frame sorted by city name\n",
    "sorted_by_city_no_duplicates = minus_duplicated_merged_table.sort_values(\"city\") \n",
    "sorted_by_city_no_duplicates.head()"
   ]
  },
  {
   "cell_type": "code",
   "execution_count": 3,
   "metadata": {},
   "outputs": [],
   "source": [
    "#Used groupby to calculate average fare and total rides per city. Output series is also sorted alphabetically by city.\n",
    "\n",
    "per_city_average_fare = merged_table.groupby('city')['fare'].mean()\n",
    "per_city_total_rides = merged_table.groupby('city')['ride_id'].count()"
   ]
  },
  {
   "cell_type": "code",
   "execution_count": 4,
   "metadata": {},
   "outputs": [
    {
     "data": {
      "text/html": [
       "<div>\n",
       "<style scoped>\n",
       "    .dataframe tbody tr th:only-of-type {\n",
       "        vertical-align: middle;\n",
       "    }\n",
       "\n",
       "    .dataframe tbody tr th {\n",
       "        vertical-align: top;\n",
       "    }\n",
       "\n",
       "    .dataframe thead th {\n",
       "        text-align: right;\n",
       "    }\n",
       "</style>\n",
       "<table border=\"1\" class=\"dataframe\">\n",
       "  <thead>\n",
       "    <tr style=\"text-align: right;\">\n",
       "      <th></th>\n",
       "      <th>city</th>\n",
       "      <th>driver_count</th>\n",
       "      <th>type</th>\n",
       "      <th>average_fare</th>\n",
       "      <th>total_rides</th>\n",
       "    </tr>\n",
       "  </thead>\n",
       "  <tbody>\n",
       "    <tr>\n",
       "      <th>164</th>\n",
       "      <td>Amandaburgh</td>\n",
       "      <td>12</td>\n",
       "      <td>Urban</td>\n",
       "      <td>24.641667</td>\n",
       "      <td>18</td>\n",
       "    </tr>\n",
       "    <tr>\n",
       "      <th>68</th>\n",
       "      <td>Barajasview</td>\n",
       "      <td>26</td>\n",
       "      <td>Urban</td>\n",
       "      <td>25.332273</td>\n",
       "      <td>22</td>\n",
       "    </tr>\n",
       "    <tr>\n",
       "      <th>1625</th>\n",
       "      <td>Barronchester</td>\n",
       "      <td>11</td>\n",
       "      <td>Suburban</td>\n",
       "      <td>36.422500</td>\n",
       "      <td>16</td>\n",
       "    </tr>\n",
       "    <tr>\n",
       "      <th>1655</th>\n",
       "      <td>Bethanyland</td>\n",
       "      <td>22</td>\n",
       "      <td>Suburban</td>\n",
       "      <td>32.956111</td>\n",
       "      <td>18</td>\n",
       "    </tr>\n",
       "    <tr>\n",
       "      <th>2260</th>\n",
       "      <td>Bradshawfurt</td>\n",
       "      <td>7</td>\n",
       "      <td>Rural</td>\n",
       "      <td>40.064000</td>\n",
       "      <td>10</td>\n",
       "    </tr>\n",
       "  </tbody>\n",
       "</table>\n",
       "</div>"
      ],
      "text/plain": [
       "               city  driver_count      type  average_fare  total_rides\n",
       "164     Amandaburgh            12     Urban     24.641667           18\n",
       "68      Barajasview            26     Urban     25.332273           22\n",
       "1625  Barronchester            11  Suburban     36.422500           16\n",
       "1655    Bethanyland            22  Suburban     32.956111           18\n",
       "2260   Bradshawfurt             7     Rural     40.064000           10"
      ]
     },
     "execution_count": 4,
     "metadata": {},
     "output_type": "execute_result"
    }
   ],
   "source": [
    "#Used 2 calculated series and added new columns on sorted dataframe\n",
    "#Now we have all needed values in the one data frame\n",
    "\n",
    "sorted_by_city_no_duplicates['average_fare'] = per_city_average_fare.values\n",
    "sorted_by_city_no_duplicates['total_rides'] = per_city_total_rides.values\n",
    "\n",
    "#dropped columns not needed for bubble plot\n",
    "\n",
    "sorted_by_city_no_duplicates = sorted_by_city_no_duplicates.drop(['date', 'fare', 'ride_id'], axis=1)\n",
    "sorted_by_city_no_duplicates.head()"
   ]
  },
  {
   "cell_type": "code",
   "execution_count": 5,
   "metadata": {},
   "outputs": [],
   "source": [
    "#Filetered dataframe and created 3 data frames, one per city type\n",
    "\n",
    "is_urban =  sorted_by_city_no_duplicates['type']==\"Urban\"\n",
    "only_urban = sorted_by_city_no_duplicates[is_urban]\n",
    "\n",
    "is_suburban =  sorted_by_city_no_duplicates['type']==\"Suburban\"\n",
    "only_suburban = sorted_by_city_no_duplicates[is_suburban]\n",
    "\n",
    "is_rural =  sorted_by_city_no_duplicates['type']==\"Rural\"\n",
    "only_rural = sorted_by_city_no_duplicates[is_rural]\n"
   ]
  },
  {
   "cell_type": "markdown",
   "metadata": {},
   "source": [
    "## Bubble Plot of Ride Sharing Data"
   ]
  },
  {
   "cell_type": "code",
   "execution_count": 6,
   "metadata": {},
   "outputs": [
    {
     "data": {
      "image/png": "[encoded data removed]",
      "text/plain": [
       "<Figure size 432x288 with 1 Axes>"
      ]
     },
     "metadata": {
      "needs_background": "light"
     },
     "output_type": "display_data"
    }
   ],
   "source": [
    "# Obtain the x and y coordinates for each of the three city types\n",
    "\n",
    "#I can build scatter plots from columns from 3 separate dataframes\n",
    "\n",
    "# Build the scatter plots for each city types\n",
    "plt.scatter(only_urban.total_rides, only_urban.average_fare, s=only_urban.driver_count , color='lightcoral' ,label='Urban')\n",
    "\n",
    "plt.scatter(only_suburban.total_rides, only_suburban.average_fare, s=only_suburban.driver_count , color='lightskyblue' ,label='Suburban')\n",
    "\n",
    "plt.scatter(only_rural.total_rides, only_rural.average_fare, s=only_rural.driver_count , color='gold' ,label='Rural')\n",
    "\n",
    "\n",
    "# Incorporate the other graph properties\n",
    "\n",
    "plt.title(\"Pyber Ride Sharing Data (2016)\")\n",
    "plt.xlabel(\"Total Number of Rides (Per City)\")\n",
    "plt.ylabel(\"Average Fare ($)\")\n",
    "plt.grid()\n",
    "\n",
    "\n",
    "# Create a legend\n",
    "plt.legend(title=\"City Types\")\n",
    "\n",
    "# Incorporate a text label regarding circle size\n",
    "plt.text(45,35,s=\"Note:\\nCircle correlates with driver count per city\")\n",
    "# Save Figure\n",
    "plt.savefig('Images/pyber_scatter.png')\n",
    "\n",
    "\n",
    "plt.show()\n"
   ]
  },
  {
   "cell_type": "markdown",
   "metadata": {},
   "source": [
    "## Total Fares by City Type"
   ]
  },
  {
   "cell_type": "code",
   "execution_count": 7,
   "metadata": {},
   "outputs": [
    {
     "data": {
      "image/png": "[encoded data removed]",
      "text/plain": [
       "<Figure size 432x288 with 1 Axes>"
      ]
     },
     "metadata": {},
     "output_type": "display_data"
    }
   ],
   "source": [
    "# Calculate total fares per city type to calculate percents\n",
    "#Using original merged dataframe I can calculate the total ammased fares per city type\n",
    "\n",
    "per_type_total_fares = merged_table.groupby('type')['fare'].sum()\n",
    "\n",
    "urban_total_fares = per_type_total_fares[2]\n",
    "suburban_total_fares = per_type_total_fares[1]\n",
    "rural_total_fares = per_type_total_fares[0]\n",
    "\n",
    "\n",
    "# Build Pie Chart\n",
    "\n",
    "city_types = [\"Urban\", \"Suburban\", \"Rural\"]\n",
    "type_totals = [urban_total_fares, suburban_total_fares, rural_total_fares]\n",
    "colors = [\"lightcoral\", \"lightskyblue\", \"gold\"]\n",
    "plt.pie(type_totals, labels=city_types, colors=colors,autopct=\"%1.1f%%\", shadow=True, startangle=90)\n",
    "plt.title(\"% of Total Fares Ammased per City Type\")\n",
    "\n",
    "plt.savefig('Images/fares_by_type.png')\n",
    "plt.show()\n"
   ]
  },
  {
   "cell_type": "markdown",
   "metadata": {},
   "source": [
    "## Total Rides by City Type"
   ]
  },
  {
   "cell_type": "code",
   "execution_count": 9,
   "metadata": {},
   "outputs": [
    {
     "data": {
      "image/png": "[encoded data removed]",
      "text/plain": [
       "<Figure size 432x288 with 1 Axes>"
      ]
     },
     "metadata": {},
     "output_type": "display_data"
    }
   ],
   "source": [
    "# Calculate number of rides per city type to calculate percents\n",
    "#Using original merged dataframe I can calculate the number of rides per city type\n",
    "\n",
    "is_urban =  merged_table['type']==\"Urban\"\n",
    "only_urban = merged_table[is_urban]\n",
    "total_urban_rides = len(only_urban)\n",
    "\n",
    "is_suburban =  merged_table['type']==\"Suburban\"\n",
    "only_suburban = merged_table[is_suburban]\n",
    "total_suburban_rides = len(only_suburban)\n",
    "\n",
    "is_rural =  merged_table['type']==\"Rural\"\n",
    "only_rural = merged_table[is_rural]\n",
    "total_rural_rides = len(only_rural)\n",
    "\n",
    "# Build Pie Chart\n",
    "\n",
    "city_types = [\"Urban\", \"Suburban\", \"Rural\"]\n",
    "type_totals = [total_urban_rides, total_suburban_rides, total_rural_rides]\n",
    "colors = [\"lightcoral\", \"lightskyblue\", \"gold\"]\n",
    "plt.pie(type_totals, labels=city_types, colors=colors,autopct=\"%1.1f%%\", shadow=True, startangle=90)\n",
    "plt.title(\"% of Total Rides per City Type\")\n",
    "\n",
    "plt.savefig('Images/rides_by_type.png')\n",
    "plt.show()\n"
   ]
  },
  {
   "cell_type": "markdown",
   "metadata": {},
   "source": [
    "## Total Drivers by City Type"
   ]
  },
  {
   "cell_type": "code",
   "execution_count": 10,
   "metadata": {},
   "outputs": [
    {
     "data": {
      "image/png": "[encoded data removed]",
      "text/plain": [
       "<Figure size 432x288 with 1 Axes>"
      ]
     },
     "metadata": {},
     "output_type": "display_data"
    }
   ],
   "source": [
    "# Calculate total drivers per city type to calculate percents\n",
    "#Using sorted merged dataframe with no duplicate city rowsI can calculate the total number of per city type\n",
    "\n",
    "per_type_total_drivers = sorted_by_city_no_duplicates.groupby('type')['driver_count'].sum()\n",
    "\n",
    "urban_total_drivers = per_type_total_drivers[2]\n",
    "suburban_total_drivers = per_type_total_drivers[1]\n",
    "rural_total_drivers = per_type_total_drivers[0]\n",
    "\n",
    "\n",
    "# Build Pie Charts\n",
    "\n",
    "city_types = [\"Urban\", \"Suburban\", \"Rural\"]\n",
    "type_totals = [urban_total_drivers, suburban_total_drivers, rural_total_drivers]\n",
    "colors = [\"lightcoral\", \"lightskyblue\", \"gold\"]\n",
    "plt.pie(type_totals, labels=city_types, colors=colors,autopct=\"%1.1f%%\", shadow=True, startangle=90)\n",
    "plt.title(\"% of Total Drivers per City Type\")\n",
    "\n",
    "plt.savefig('Images/drivers_by_type.png')\n",
    "plt.show()\n"
   ]
  },
  {
   "cell_type": "markdown",
   "metadata": {},
   "source": [
    "# Observable Trends"
   ]
  },
  {
   "cell_type": "markdown",
   "metadata": {},
   "source": [
    "1) As expected Urban cities have more drivers than Suburban , and Suburban more than Rural. (size of bubbles in scatter plot).\n",
    "\n",
    "2) Total ammassed Fares in Urban cities make up more than half of all ammassed fares (Piechart #1)\n",
    "\n",
    "3) Urban cities ammount to almost 3/4 of all rides in Pyber Data 2016 (Piechart #2)"
   ]
  }
 ],
 "metadata": {
  "anaconda-cloud": {},
  "kernelspec": {
   "display_name": "Python 3",
   "language": "python",
   "name": "python3"
  },
  "language_info": {
   "codemirror_mode": {
    "name": "ipython",
    "version": 3
   },
   "file_extension": ".py",
   "mimetype": "text/x-python",
   "name": "python",
   "nbconvert_exporter": "python",
   "pygments_lexer": "ipython3",
   "version": "3.6.7"
  }
 },
 "nbformat": 4,
 "nbformat_minor": 2
}
